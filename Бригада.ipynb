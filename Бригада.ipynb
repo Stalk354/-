{
  "nbformat": 4,
  "nbformat_minor": 0,
  "metadata": {
    "colab": {
      "provenance": [],
      "include_colab_link": true
    },
    "kernelspec": {
      "name": "python3",
      "display_name": "Python 3"
    },
    "language_info": {
      "name": "python"
    }
  },
  "cells": [
    {
      "cell_type": "markdown",
      "metadata": {
        "id": "view-in-github",
        "colab_type": "text"
      },
      "source": [
        "<a href=\"https://colab.research.google.com/github/Stalk354/-/blob/main/%D0%91%D1%80%D0%B8%D0%B3%D0%B0%D0%B4%D0%B0.ipynb\" target=\"_parent\"><img src=\"https://colab.research.google.com/assets/colab-badge.svg\" alt=\"Open In Colab\"/></a>"
      ]
    },
    {
      "cell_type": "markdown",
      "source": [
        "# Пример использования Markdown\n",
        "###Нужно сделать:\n",
        "1. Список.\n",
        "2. Рисунок.\n",
        "56. Таблицу.\n",
        "67. Ссылку.\n",
        "\n",
        "\n",
        "\n",
        "![Изображение](https://img.motogp-news.ru/2020/10/einstein_sticks_his_tongue_1951.jpg)\n",
        "\n",
        "[Биография великого учёного](https://biographe.ru/uchenie/albert-einshtein/)\n",
        "\n",
        "\n",
        "|Александр|Егор|Омаров(тоже Александер)|\n",
        "|:-:|:----:|:-----------:|\n",
        "|10000000000|11337|1337|\n",
        "|Отличные показатели|В пределах нормы|В пределах отличных показателей|"
      ],
      "metadata": {
        "id": "yVgBgMnYtRco"
      }
    }
  ]
}